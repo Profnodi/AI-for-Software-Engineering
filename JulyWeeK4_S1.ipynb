{
  "nbformat": 4,
  "nbformat_minor": 0,
  "metadata": {
    "colab": {
      "provenance": [],
      "authorship_tag": "ABX9TyM+XAH98oS/VASNuIS0QPBj",
      "include_colab_link": true
    },
    "kernelspec": {
      "name": "python3",
      "display_name": "Python 3"
    },
    "language_info": {
      "name": "python"
    }
  },
  "cells": [
    {
      "cell_type": "markdown",
      "metadata": {
        "id": "view-in-github",
        "colab_type": "text"
      },
      "source": [
        "<a href=\"https://colab.research.google.com/github/Profnodi/AI-for-Software-Engineering/blob/main/JulyWeeK4_S1.ipynb\" target=\"_parent\"><img src=\"https://colab.research.google.com/assets/colab-badge.svg\" alt=\"Open In Colab\"/></a>"
      ]
    },
    {
      "cell_type": "code",
      "execution_count": null,
      "metadata": {
        "id": "CGLxFM-_VC-h"
      },
      "outputs": [],
      "source": [
        "import pandas as pd\n",
        "from sklearn.model_selection import train_test_split\n",
        "from sklearn.linear_model import LogisticRegression\n",
        "from sklearn.metrics import classification_report\n",
        "\n",
        "# load data\n",
        "df = pd.read_csv(\"repo_metrics.csv\")\n",
        "\n",
        "#Split the data\n",
        "X = df [ ['loc', 'complexity', 'churn']]\n",
        "Y = df ['buggy']\n",
        "\n",
        "#Train/Test\n",
        "x_train, X_test, Y_test = train_test_split(\n",
        "    X, Y, test_size\n",
        "    X_train, X_test, y_train, y_test = train_test_split(\n",
        "    X, y, test_size=0.2, random_state=42\n",
        ")"
      ]
    }
  ]
}